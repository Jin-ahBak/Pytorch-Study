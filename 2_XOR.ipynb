{
  "nbformat": 4,
  "nbformat_minor": 0,
  "metadata": {
    "colab": {
      "name": "2.XOR.ipynb",
      "provenance": [],
      "collapsed_sections": [],
      "authorship_tag": "ABX9TyNSo6UHDKMpoocwtINs+klM",
      "include_colab_link": true
    },
    "kernelspec": {
      "name": "python3",
      "display_name": "Python 3"
    }
  },
  "cells": [
    {
      "cell_type": "markdown",
      "metadata": {
        "id": "view-in-github",
        "colab_type": "text"
      },
      "source": [
        "<a href=\"https://colab.research.google.com/github/lunaB/AI-Study/blob/master/2_XOR.ipynb\" target=\"_parent\"><img src=\"https://colab.research.google.com/assets/colab-badge.svg\" alt=\"Open In Colab\"/></a>"
      ]
    },
    {
      "cell_type": "code",
      "metadata": {
        "id": "ETuUFfeBqLRK",
        "colab_type": "code",
        "colab": {
          "base_uri": "https://localhost:8080/",
          "height": 772
        },
        "outputId": "e8192795-f727-4265-cba3-388946d379fb"
      },
      "source": [
        "import torch\n",
        "import torch.nn as nn\n",
        "import numpy as np\n",
        "import matplotlib.pyplot as plt\n",
        "\n",
        "torch.manual_seed(1)\n",
        "\n",
        "# X와 Y dtype은 무조건 float32이여야 하는 것 같다.\n",
        "x = np.array([[0,0],[0,1],[1,0],[1,1]], dtype=np.float32)\n",
        "y = np.array([[0],[1],[1],[0]], dtype=np.float32)\n",
        "\n",
        "# 목표 그래프\n",
        "plt.scatter(x.T[0,1:3],x.T[1,1:3], c='r')\n",
        "plt.scatter(x.T[0,0::3],x.T[1,0::3], c='b')\n",
        "plt.legend(['True', 'False'])\n",
        "plt.show()\n",
        "\n",
        "# 모델 설정\n",
        "model = nn.Sequential(\n",
        "    nn.Linear(2, 10),\n",
        "    nn.ReLU(),\n",
        "    nn.Linear(10, 10),\n",
        "    nn.ReLU(),\n",
        "    nn.Linear(10, 10),\n",
        "    nn.ReLU(),\n",
        "    nn.Linear(10, 1),\n",
        "    nn.ReLU(),\n",
        ")\n",
        "\n",
        "loss_func = nn.MSELoss()\n",
        "optim = torch.optim.SGD(model.parameters(), lr=0.01, momentum=0.9)\n",
        "\n",
        "for i in range(2001):\n",
        "\n",
        "    inputs = torch.from_numpy(x)\n",
        "    targets = torch.from_numpy(y)\n",
        "\n",
        "    outputs = model(inputs)\n",
        "\n",
        "    loss = loss_func(outputs, targets)\n",
        "    \n",
        "    optim.zero_grad()\n",
        "    loss.backward()\n",
        "    optim.step()\n",
        "\n",
        "    if i%300 == 0:\n",
        "        print(i, loss.item())\n",
        "\n",
        "print(x)\n",
        "print(model(torch.from_numpy(x)).detach().numpy())\n",
        "\n",
        "# 시각화\n",
        "\n",
        "# ax (22,), ay (22,)\n",
        "ax = np.arange(0, 1.1, 0.05)\n",
        "ay = np.arange(0, 1.1, 0.05)\n",
        "\n",
        "# ax, ay로 만들수 있는 zip 쌍을 만들어줌 tx (22, 22), ty (22, 22)\n",
        "tx, ty = np.meshgrid(ax, ay)\n",
        "\n",
        "# 코드길이 줄이는 용도 22*22\n",
        "rtmp = len(ax)*len(ay)\n",
        "\n",
        "# tx (22, 22), ty (22, 22) 사이즈의 배열을 (22*22) 사이즈로 편뒤 zip으로 학습시의 [[x, y], [...], ...] 모양으로 만들어주고 실행시킨뒤 다시 ax, ay 사이즈인 (22, 22)로 되돌린다.\n",
        "grid = model(torch.from_numpy(np.array(list(zip(tx.reshape(rtmp), ty.reshape(rtmp))), dtype=np.float32))).detach().numpy().reshape(len(ax), len(ay))\n",
        "\n",
        "# origin='lower'는 y축이 0부터 최대값까지 올라가게 바꾸어준다. extent는 image크기에 상관없이 눈끔을 그려준다.\n",
        "plt.imshow(grid, interpolation='nearest', origin='lower', extent=[0,1,0,1])\n",
        "plt.show()"
      ],
      "execution_count": 1,
      "outputs": [
        {
          "output_type": "display_data",
          "data": {
            "image/png": "[encoded data removed]",
            "text/plain": [
              "<Figure size 432x288 with 1 Axes>"
            ]
          },
          "metadata": {
            "tags": []
          }
        },
        {
          "output_type": "stream",
          "text": [
            "0 0.28662294149398804\n",
            "300 1.4067519771288062e-07\n",
            "600 0.0\n",
            "900 0.0\n",
            "1200 0.0\n",
            "1500 0.0\n",
            "1800 0.0\n",
            "[[0. 0.]\n",
            " [0. 1.]\n",
            " [1. 0.]\n",
            " [1. 1.]]\n",
            "[[0.]\n",
            " [1.]\n",
            " [1.]\n",
            " [0.]]\n"
          ],
          "name": "stdout"
        },
        {
          "output_type": "display_data",
          "data": {
            "image/png": "[encoded data removed]",
            "text/plain": [
              "<Figure size 432x288 with 1 Axes>"
            ]
          },
          "metadata": {
            "tags": []
          }
        }
      ]
    },
    {
      "cell_type": "code",
      "metadata": {
        "id": "X3dYiJjFt4XU",
        "colab_type": "code",
        "colab": {}
      },
      "source": [
        "# 실패\n",
        "\n",
        "# dx, dy = 0.1, 0.1\n",
        "\n",
        "# x_a = np.arange(0, 1.1, dx)\n",
        "# y_a = np.arange(0, 1.1, dy)\n",
        "# X, Y = np.meshgrid(x_a, y_a)\n",
        "\n",
        "# extent = np.min(x), np.max(x), np.min(y), np.max(y)\n",
        "# # fig = plt.figure(frameon=False)\n",
        "# # Z1 = np.add.outer(range(8), range(8)) % 2  # chessboard\n",
        "# # im1 = plt.imshow(Z1, cmap=plt.cm.gray, interpolation='nearest', extent=extent)\n",
        "# Z2 = model(torch.from_numpy(np.array(list(zip(X.reshape(len(X)**2), Y.reshape(len(Y)**2))), dtype=np.float32))).detach().numpy()\n",
        "# im2 = plt.imshow(Z2, cmap=plt.cm.viridis, alpha=.9, interpolation='bilinear', extent=extent)\n",
        "# plt.show()"
      ],
      "execution_count": 0,
      "outputs": []
    }
  ]
}