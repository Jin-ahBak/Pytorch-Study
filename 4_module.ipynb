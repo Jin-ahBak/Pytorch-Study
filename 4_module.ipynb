{
  "nbformat": 4,
  "nbformat_minor": 0,
  "metadata": {
    "colab": {
      "name": "4_module.ipynb",
      "provenance": [],
      "authorship_tag": "ABX9TyNbBMmIpC2DsAUF8ZktP5Yi",
      "include_colab_link": true
    },
    "kernelspec": {
      "name": "python3",
      "display_name": "Python 3"
    }
  },
  "cells": [
    {
      "cell_type": "markdown",
      "metadata": {
        "id": "view-in-github",
        "colab_type": "text"
      },
      "source": [
        "<a href=\"https://colab.research.google.com/github/lunaB/AI-Study/blob/master/4_module.ipynb\" target=\"_parent\"><img src=\"https://colab.research.google.com/assets/colab-badge.svg\" alt=\"Open In Colab\"/></a>"
      ]
    },
    {
      "cell_type": "code",
      "metadata": {
        "id": "eP4CDGNosRbE",
        "colab_type": "code",
        "colab": {}
      },
      "source": [
        "import torch\n",
        "import torch.nn as nn\n",
        "import torch.nn.functional as F\n",
        "from torch.utils.data import Dataset, DataLoader"
      ],
      "execution_count": 0,
      "outputs": []
    },
    {
      "cell_type": "code",
      "metadata": {
        "id": "DWHAcGTOl3-k",
        "colab_type": "code",
        "colab": {}
      },
      "source": [
        "class MyDataSet(Dataset):\n",
        "    def __init__(self):\n",
        "        x1_train = torch.FloatTensor([[73], [93], [89], [96], [73]])\n",
        "        x2_train = torch.FloatTensor([[80], [88], [91], [98], [66]])\n",
        "        x3_train = torch.FloatTensor([[75], [93], [90], [100], [70]])\n",
        "        self.y_data = torch.FloatTensor([[152], [185], [180], [196], [142]])\n",
        "\n",
        "        self.x_data = torch.cat([x1_train.T[0],x2_train.T[0],x3_train.T[0]]).view((3,5)).T\n",
        "\n",
        "    def __len__(self):\n",
        "        return len(self.x_data)\n",
        "\n",
        "    def __getitem__(self, idx):\n",
        "        x = torch.FloatTensor(self.x_data[idx])\n",
        "        y = torch.FloatTensor(self.y_data[idx])\n",
        "        return x, y"
      ],
      "execution_count": 0,
      "outputs": []
    },
    {
      "cell_type": "code",
      "metadata": {
        "id": "Vq5Wk3KEfXgm",
        "colab_type": "code",
        "colab": {}
      },
      "source": [
        "dataset = MyDataSet()\n",
        "dataLoader = DataLoader(dataset=dataset, batch_size=5, shuffle=True)"
      ],
      "execution_count": 0,
      "outputs": []
    },
    {
      "cell_type": "code",
      "metadata": {
        "id": "8et6RT3_fHVB",
        "colab_type": "code",
        "colab": {}
      },
      "source": [
        "class MyModel(nn.Module):\n",
        "    def __init__(self):\n",
        "        super().__init__()\n",
        "        self.linear = nn.Linear(3,1)\n",
        "    def forward(self, x):\n",
        "        return self.linear(x)"
      ],
      "execution_count": 0,
      "outputs": []
    },
    {
      "cell_type": "code",
      "metadata": {
        "id": "XM73O3ReE1Vh",
        "colab_type": "code",
        "outputId": "c07ff67a-9c1b-4c69-9656-ee3b86ffa306",
        "colab": {
          "base_uri": "https://localhost:8080/",
          "height": 395
        }
      },
      "source": [
        "epoch = 200\n",
        "model = MyModel()\n",
        "optim = torch.optim.SGD(model.parameters(), lr=1e-6)\n",
        "for ep in range(epoch+1):\n",
        "    for idx, batch in enumerate(dataLoader):\n",
        "        x_train, y_train = batch\n",
        "        pred = model(x_train)\n",
        "        loss = F.mse_loss(pred, y_train)\n",
        "\n",
        "        optim.zero_grad()\n",
        "        loss.backward()\n",
        "        optim.step()\n",
        "\n",
        "        if ep%10 == 0:\n",
        "            print(ep, loss.item())\n"
      ],
      "execution_count": 5,
      "outputs": [
        {
          "output_type": "stream",
          "text": [
            "0 30698.69921875\n",
            "10 12478.7978515625\n",
            "20 5072.8681640625\n",
            "30 2062.544677734375\n",
            "40 838.9240112304688\n",
            "50 341.5531005859375\n",
            "60 139.38409423828125\n",
            "70 57.20750045776367\n",
            "80 23.804752349853516\n",
            "90 10.227401733398438\n",
            "100 4.7084832191467285\n",
            "110 2.4651753902435303\n",
            "120 1.5532479286193848\n",
            "130 1.1825802326202393\n",
            "140 1.0319057703018188\n",
            "150 0.970623791217804\n",
            "160 0.9456939697265625\n",
            "170 0.9355419874191284\n",
            "180 0.9313632249832153\n",
            "190 0.929663360118866\n",
            "200 0.9289376139640808\n"
          ],
          "name": "stdout"
        }
      ]
    },
    {
      "cell_type": "code",
      "metadata": {
        "id": "x6BbHayQJgvt",
        "colab_type": "code",
        "colab": {
          "base_uri": "https://localhost:8080/",
          "height": 197
        },
        "outputId": "3947a8fa-8778-41be-97de-29fd1cb61a1c"
      },
      "source": [
        "print(model(x_train).detach())\n",
        "print(y_train)"
      ],
      "execution_count": 9,
      "outputs": [
        {
          "output_type": "stream",
          "text": [
            "tensor([[141.1824],\n",
            "        [197.3577],\n",
            "        [150.5543],\n",
            "        [185.0906],\n",
            "        [180.1850]])\n",
            "tensor([[142.],\n",
            "        [196.],\n",
            "        [152.],\n",
            "        [185.],\n",
            "        [180.]])\n"
          ],
          "name": "stdout"
        }
      ]
    }
  ]
}