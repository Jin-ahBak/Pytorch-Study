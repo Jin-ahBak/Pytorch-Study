{
  "nbformat": 4,
  "nbformat_minor": 0,
  "metadata": {
    "colab": {
      "name": "6_mnist_dnn.ipynb",
      "provenance": [],
      "authorship_tag": "ABX9TyMPiEpUbZqGYOBded3wIuUf",
      "include_colab_link": true
    },
    "kernelspec": {
      "name": "python3",
      "display_name": "Python 3"
    },
    "widgets": {
      "application/vnd.jupyter.widget-state+json": {
        "d2d9aab89b80456d8f0c094c09f69967": {
          "model_module": "@jupyter-widgets/controls",
          "model_name": "HBoxModel",
          "state": {
            "_view_name": "HBoxView",
            "_dom_classes": [],
            "_model_name": "HBoxModel",
            "_view_module": "@jupyter-widgets/controls",
            "_model_module_version": "1.5.0",
            "_view_count": null,
            "_view_module_version": "1.5.0",
            "box_style": "",
            "layout": "IPY_MODEL_292a4b64919f4551b64cde0bc52dcdd8",
            "_model_module": "@jupyter-widgets/controls",
            "children": [
              "IPY_MODEL_d21d08fde7de40d991ab84db72b46a88",
              "IPY_MODEL_f1d3b9d92e264746b0a7145a02cff6d7"
            ]
          }
        },
        "292a4b64919f4551b64cde0bc52dcdd8": {
          "model_module": "@jupyter-widgets/base",
          "model_name": "LayoutModel",
          "state": {
            "_view_name": "LayoutView",
            "grid_template_rows": null,
            "right": null,
            "justify_content": null,
            "_view_module": "@jupyter-widgets/base",
            "overflow": null,
            "_model_module_version": "1.2.0",
            "_view_count": null,
            "flex_flow": null,
            "width": null,
            "min_width": null,
            "border": null,
            "align_items": null,
            "bottom": null,
            "_model_module": "@jupyter-widgets/base",
            "top": null,
            "grid_column": null,
            "overflow_y": null,
            "overflow_x": null,
            "grid_auto_flow": null,
            "grid_area": null,
            "grid_template_columns": null,
            "flex": null,
            "_model_name": "LayoutModel",
            "justify_items": null,
            "grid_row": null,
            "max_height": null,
            "align_content": null,
            "visibility": null,
            "align_self": null,
            "height": null,
            "min_height": null,
            "padding": null,
            "grid_auto_rows": null,
            "grid_gap": null,
            "max_width": null,
            "order": null,
            "_view_module_version": "1.2.0",
            "grid_template_areas": null,
            "object_position": null,
            "object_fit": null,
            "grid_auto_columns": null,
            "margin": null,
            "display": null,
            "left": null
          }
        },
        "d21d08fde7de40d991ab84db72b46a88": {
          "model_module": "@jupyter-widgets/controls",
          "model_name": "IntProgressModel",
          "state": {
            "_view_name": "ProgressView",
            "style": "IPY_MODEL_79cdf433ccac4a0d89dd1b46417bf967",
            "_dom_classes": [],
            "description": "",
            "_model_name": "IntProgressModel",
            "bar_style": "success",
            "max": 16,
            "_view_module": "@jupyter-widgets/controls",
            "_model_module_version": "1.5.0",
            "value": 16,
            "_view_count": null,
            "_view_module_version": "1.5.0",
            "orientation": "horizontal",
            "min": 0,
            "description_tooltip": null,
            "_model_module": "@jupyter-widgets/controls",
            "layout": "IPY_MODEL_b6924757c0874da98e68fe79e2364d90"
          }
        },
        "f1d3b9d92e264746b0a7145a02cff6d7": {
          "model_module": "@jupyter-widgets/controls",
          "model_name": "HTMLModel",
          "state": {
            "_view_name": "HTMLView",
            "style": "IPY_MODEL_265ce3c9fe0c4e1aa5ff2758b1e0ef23",
            "_dom_classes": [],
            "description": "",
            "_model_name": "HTMLModel",
            "placeholder": "​",
            "_view_module": "@jupyter-widgets/controls",
            "_model_module_version": "1.5.0",
            "value": "100% 16/16 [01:24&lt;00:00,  5.32s/it]",
            "_view_count": null,
            "_view_module_version": "1.5.0",
            "description_tooltip": null,
            "_model_module": "@jupyter-widgets/controls",
            "layout": "IPY_MODEL_ea3750c70f16460cb2a35afcc0457313"
          }
        },
        "79cdf433ccac4a0d89dd1b46417bf967": {
          "model_module": "@jupyter-widgets/controls",
          "model_name": "ProgressStyleModel",
          "state": {
            "_view_name": "StyleView",
            "_model_name": "ProgressStyleModel",
            "description_width": "",
            "_view_module": "@jupyter-widgets/base",
            "_model_module_version": "1.5.0",
            "_view_count": null,
            "_view_module_version": "1.2.0",
            "bar_color": null,
            "_model_module": "@jupyter-widgets/controls"
          }
        },
        "b6924757c0874da98e68fe79e2364d90": {
          "model_module": "@jupyter-widgets/base",
          "model_name": "LayoutModel",
          "state": {
            "_view_name": "LayoutView",
            "grid_template_rows": null,
            "right": null,
            "justify_content": null,
            "_view_module": "@jupyter-widgets/base",
            "overflow": null,
            "_model_module_version": "1.2.0",
            "_view_count": null,
            "flex_flow": null,
            "width": null,
            "min_width": null,
            "border": null,
            "align_items": null,
            "bottom": null,
            "_model_module": "@jupyter-widgets/base",
            "top": null,
            "grid_column": null,
            "overflow_y": null,
            "overflow_x": null,
            "grid_auto_flow": null,
            "grid_area": null,
            "grid_template_columns": null,
            "flex": null,
            "_model_name": "LayoutModel",
            "justify_items": null,
            "grid_row": null,
            "max_height": null,
            "align_content": null,
            "visibility": null,
            "align_self": null,
            "height": null,
            "min_height": null,
            "padding": null,
            "grid_auto_rows": null,
            "grid_gap": null,
            "max_width": null,
            "order": null,
            "_view_module_version": "1.2.0",
            "grid_template_areas": null,
            "object_position": null,
            "object_fit": null,
            "grid_auto_columns": null,
            "margin": null,
            "display": null,
            "left": null
          }
        },
        "265ce3c9fe0c4e1aa5ff2758b1e0ef23": {
          "model_module": "@jupyter-widgets/controls",
          "model_name": "DescriptionStyleModel",
          "state": {
            "_view_name": "StyleView",
            "_model_name": "DescriptionStyleModel",
            "description_width": "",
            "_view_module": "@jupyter-widgets/base",
            "_model_module_version": "1.5.0",
            "_view_count": null,
            "_view_module_version": "1.2.0",
            "_model_module": "@jupyter-widgets/controls"
          }
        },
        "ea3750c70f16460cb2a35afcc0457313": {
          "model_module": "@jupyter-widgets/base",
          "model_name": "LayoutModel",
          "state": {
            "_view_name": "LayoutView",
            "grid_template_rows": null,
            "right": null,
            "justify_content": null,
            "_view_module": "@jupyter-widgets/base",
            "overflow": null,
            "_model_module_version": "1.2.0",
            "_view_count": null,
            "flex_flow": null,
            "width": null,
            "min_width": null,
            "border": null,
            "align_items": null,
            "bottom": null,
            "_model_module": "@jupyter-widgets/base",
            "top": null,
            "grid_column": null,
            "overflow_y": null,
            "overflow_x": null,
            "grid_auto_flow": null,
            "grid_area": null,
            "grid_template_columns": null,
            "flex": null,
            "_model_name": "LayoutModel",
            "justify_items": null,
            "grid_row": null,
            "max_height": null,
            "align_content": null,
            "visibility": null,
            "align_self": null,
            "height": null,
            "min_height": null,
            "padding": null,
            "grid_auto_rows": null,
            "grid_gap": null,
            "max_width": null,
            "order": null,
            "_view_module_version": "1.2.0",
            "grid_template_areas": null,
            "object_position": null,
            "object_fit": null,
            "grid_auto_columns": null,
            "margin": null,
            "display": null,
            "left": null
          }
        }
      }
    },
    "accelerator": "GPU"
  },
  "cells": [
    {
      "cell_type": "markdown",
      "metadata": {
        "id": "view-in-github",
        "colab_type": "text"
      },
      "source": [
        "<a href=\"https://colab.research.google.com/github/lunaB/AI-Study/blob/master/6_mnist_dnn.ipynb\" target=\"_parent\"><img src=\"https://colab.research.google.com/assets/colab-badge.svg\" alt=\"Open In Colab\"/></a>"
      ]
    },
    {
      "cell_type": "code",
      "metadata": {
        "id": "hfXolNHTMLJ-",
        "colab_type": "code",
        "colab": {}
      },
      "source": [
        "import torch\n",
        "import torch.nn as nn\n",
        "import torch.nn.functional as F\n",
        "import torch.optim as optim\n",
        "import torchvision.datasets as datasets\n",
        "import torchvision.transforms as transforms\n",
        "\n",
        "import matplotlib.pyplot as plt\n",
        "from tqdm import tqdm_notebook\n",
        "\n",
        "\n",
        "torch.manual_seed(1)\n",
        "device = 'cuda' if torch.cuda.is_available() else 'cpu'\n",
        "if device == 'cuda':\n",
        "    torch.cuda.manual_seed_all(1)"
      ],
      "execution_count": 0,
      "outputs": []
    },
    {
      "cell_type": "code",
      "metadata": {
        "id": "DIfKn6zlf7UL",
        "colab_type": "code",
        "colab": {}
      },
      "source": [
        "mnist_train = datasets.MNIST(root='MNIST_data/',\n",
        "                          train=True,\n",
        "                          transform=transforms.ToTensor(),\n",
        "                          download=True)\n",
        "\n",
        "mnist_test = datasets.MNIST(root='MNIST_data/',\n",
        "                         train=False,\n",
        "                         transform=transforms.ToTensor(),\n",
        "                         download=True)"
      ],
      "execution_count": 0,
      "outputs": []
    },
    {
      "cell_type": "code",
      "metadata": {
        "id": "UekC6ZuocU5X",
        "colab_type": "code",
        "outputId": "6cfb85b5-b3f4-4133-8396-b9467dcd00c5",
        "colab": {
          "base_uri": "https://localhost:8080/",
          "height": 155
        }
      },
      "source": [
        "print(mnist_train)\n",
        "print(mnist_train.data.shape)\n",
        "print(mnist_train.targets.shape)"
      ],
      "execution_count": 3,
      "outputs": [
        {
          "output_type": "stream",
          "text": [
            "Dataset MNIST\n",
            "    Number of datapoints: 60000\n",
            "    Root location: MNIST_data/\n",
            "    Split: Train\n",
            "    StandardTransform\n",
            "Transform: ToTensor()\n",
            "torch.Size([60000, 28, 28])\n",
            "torch.Size([60000])\n"
          ],
          "name": "stdout"
        }
      ]
    },
    {
      "cell_type": "code",
      "metadata": {
        "id": "znjdLQXxnxCU",
        "colab_type": "code",
        "colab": {}
      },
      "source": [
        "dataloader = torch.utils.data.DataLoader(mnist_train, 100, shuffle=True, drop_last=True)"
      ],
      "execution_count": 0,
      "outputs": []
    },
    {
      "cell_type": "code",
      "metadata": {
        "id": "lo3u-A6tbuda",
        "colab_type": "code",
        "colab": {}
      },
      "source": [
        "class MnistModel(nn.Module):\n",
        "    def __init__(self):\n",
        "        super(MnistModel, self).__init__()\n",
        "\n",
        "        self.linear1 = nn.Linear(28*28, 512, bias=True)\n",
        "        self.linear2 = nn.Linear(512, 512, bias=True)\n",
        "        self.linear3 = nn.Linear(512, 10, bias=True)\n",
        "        \n",
        "        self.dropout = nn.Dropout(p = 0.5)\n",
        "        self.relu = nn.ReLU()\n",
        "        self.batchNorm1 = nn.BatchNorm1d(512)\n",
        "        self.batchNorm2 = nn.BatchNorm1d(512)\n",
        "        # self.batchNorm3 = nn.BatchNorm1d(10)\n",
        "\n",
        "        nn.init.xavier_uniform_(self.linear1.weight)\n",
        "        nn.init.xavier_uniform_(self.linear2.weight)\n",
        "        nn.init.xavier_uniform_(self.linear3.weight)\n",
        "\n",
        "        self.layer = nn.Sequential(self.linear1, self.batchNorm1, self.relu, self.dropout,\n",
        "                                   self.linear2, self.batchNorm2, self.relu, self.dropout,\n",
        "                                   self.linear3).to(device)\n",
        "\n",
        "    def forward(self, x):\n",
        "        return self.layer(x)"
      ],
      "execution_count": 0,
      "outputs": []
    },
    {
      "cell_type": "code",
      "metadata": {
        "id": "9A-mZaW1Yw3d",
        "colab_type": "code",
        "outputId": "9af7b086-0345-4ec6-b6b1-088da14c0bdd",
        "colab": {
          "base_uri": "https://localhost:8080/",
          "height": 343,
          "referenced_widgets": [
            "d2d9aab89b80456d8f0c094c09f69967",
            "292a4b64919f4551b64cde0bc52dcdd8",
            "d21d08fde7de40d991ab84db72b46a88",
            "f1d3b9d92e264746b0a7145a02cff6d7",
            "79cdf433ccac4a0d89dd1b46417bf967",
            "b6924757c0874da98e68fe79e2364d90",
            "265ce3c9fe0c4e1aa5ff2758b1e0ef23",
            "ea3750c70f16460cb2a35afcc0457313"
          ]
        }
      },
      "source": [
        "model = MnistModel()\n",
        "optimizer = optim.Adam(model.parameters(), lr=0.001)\n",
        "hist_train = []\n",
        "hist_test = []\n",
        "n_epoch = 15\n",
        "for epoch in tqdm_notebook(range(n_epoch+1)):\n",
        "    model.train()\n",
        "    batch_loss = 0\n",
        "    for idx, mini_batch in enumerate(dataloader):\n",
        "        x_train, y_train = mini_batch\n",
        "        x_train = x_train.view(-1,28*28).to(device)\n",
        "        y_train = y_train.to(device)\n",
        "        \n",
        "        pred = model(x_train)\n",
        "\n",
        "        loss = F.cross_entropy(pred, y_train)\n",
        "        optimizer.zero_grad()\n",
        "        loss.backward()\n",
        "        optimizer.step()\n",
        "\n",
        "        batch_loss += loss.item()\n",
        "\n",
        "    model.eval()\n",
        "    pred = model(mnist_train.data.view(-1,28*28).float().to(device)).detach()\n",
        "    hist_train.append((mnist_train.targets.to(device) == torch.argmax(pred, 1)).float().mean().item()*100)\n",
        "    \n",
        "    pred = model(mnist_test.data.view(-1,28*28).float().to(device)).detach()\n",
        "    hist_test.append((mnist_test.targets.to(device) == torch.argmax(pred, 1)).float().mean().item()*100)\n",
        "\n",
        "    print('epoch :',epoch, 'loss :', batch_loss/len(dataloader), 'train_acc :', hist_train[epoch], 'test_acc :', hist_test[epoch])\n",
        "    batch_loss = 0"
      ],
      "execution_count": 6,
      "outputs": [
        {
          "output_type": "display_data",
          "data": {
            "application/vnd.jupyter.widget-view+json": {
              "model_id": "d2d9aab89b80456d8f0c094c09f69967",
              "version_minor": 0,
              "version_major": 2
            },
            "text/plain": [
              "HBox(children=(IntProgress(value=0, max=16), HTML(value='')))"
            ]
          },
          "metadata": {
            "tags": []
          }
        },
        {
          "output_type": "stream",
          "text": [
            "epoch : 0 loss : 0.333838997532924 train_acc : 95.33500075340271 test_acc : 95.08000016212463\n",
            "epoch : 1 loss : 0.17689553887893755 train_acc : 93.15666556358337 test_acc : 92.35000014305115\n",
            "epoch : 2 loss : 0.1456819095245252 train_acc : 93.01833510398865 test_acc : 92.32999682426453\n",
            "epoch : 3 loss : 0.1210873563370357 train_acc : 90.96333384513855 test_acc : 90.04999995231628\n",
            "epoch : 4 loss : 0.10771522187162191 train_acc : 90.31167030334473 test_acc : 89.46999907493591\n",
            "epoch : 5 loss : 0.09697451755714913 train_acc : 92.74666905403137 test_acc : 91.94999933242798\n",
            "epoch : 6 loss : 0.08668062184471637 train_acc : 90.51166772842407 test_acc : 89.98000025749207\n",
            "epoch : 7 loss : 0.0819584024278447 train_acc : 91.36666655540466 test_acc : 91.06000065803528\n",
            "epoch : 8 loss : 0.07621132831322029 train_acc : 91.32333397865295 test_acc : 90.70000052452087\n",
            "epoch : 9 loss : 0.07306048856776517 train_acc : 91.3016676902771 test_acc : 90.1699960231781\n",
            "epoch : 10 loss : 0.06848594163563879 train_acc : 91.81166887283325 test_acc : 90.92999696731567\n",
            "epoch : 11 loss : 0.06177263520192355 train_acc : 93.84333491325378 test_acc : 92.87999868392944\n",
            "epoch : 12 loss : 0.05973947031268229 train_acc : 93.37999820709229 test_acc : 92.30999946594238\n",
            "epoch : 13 loss : 0.05752098782880542 train_acc : 93.32666993141174 test_acc : 92.13999509811401\n",
            "epoch : 14 loss : 0.056220214299780004 train_acc : 94.1266655921936 test_acc : 93.05999875068665\n",
            "epoch : 15 loss : 0.05103525038459338 train_acc : 91.8316662311554 test_acc : 90.53999781608582\n",
            "\n"
          ],
          "name": "stdout"
        }
      ]
    },
    {
      "cell_type": "code",
      "metadata": {
        "id": "pIO9P-tjxF5o",
        "colab_type": "code",
        "colab": {
          "base_uri": "https://localhost:8080/",
          "height": 265
        },
        "outputId": "86310625-0274-45ce-e380-3248c209b617"
      },
      "source": [
        "plt.plot(hist_train, label='train')\n",
        "plt.plot(hist_test, label='test')\n",
        "le = plt.legend()\n",
        "plt.show()"
      ],
      "execution_count": 7,
      "outputs": [
        {
          "output_type": "display_data",
          "data": {
            "image/png": "[encoded data removed]",
            "text/plain": [
              "<Figure size 432x288 with 1 Axes>"
            ]
          },
          "metadata": {
            "tags": []
          }
        }
      ]
    },
    {
      "cell_type": "code",
      "metadata": {
        "id": "9EUvyz7HDE_E",
        "colab_type": "code",
        "outputId": "886d711a-702a-4a7d-b702-8a87b0f423de",
        "colab": {
          "base_uri": "https://localhost:8080/",
          "height": 282
        }
      },
      "source": [
        "model.eval()\n",
        "x_train, y_train = dataloader.dataset[0]\n",
        "data = model(x_train.view(-1, 28*28).to(device)).detach()[0]\n",
        "print(torch.argmax(data))\n",
        "plt.imshow(x_train[0], cmap='Greys')\n",
        "plt.show()"
      ],
      "execution_count": 8,
      "outputs": [
        {
          "output_type": "stream",
          "text": [
            "tensor(5, device='cuda:0')\n"
          ],
          "name": "stdout"
        },
        {
          "output_type": "display_data",
          "data": {
            "image/png": "[encoded data removed]",
            "text/plain": [
              "<Figure size 432x288 with 1 Axes>"
            ]
          },
          "metadata": {
            "tags": []
          }
        }
      ]
    },
    {
      "cell_type": "code",
      "metadata": {
        "id": "f4DNvaVqYh5M",
        "colab_type": "code",
        "colab": {
          "base_uri": "https://localhost:8080/",
          "height": 35
        },
        "outputId": "7a6fbe74-c5f1-403f-b01d-7714b8887a87"
      },
      "source": [
        "model.eval()\n",
        "pred = model(mnist_train.data.view(-1,28*28).float().to(device)).detach()\n",
        "print('Train Accuracy : %.2f%%'%((mnist_train.targets.to(device) == torch.argmax(pred, 1)).float().mean().item()*100))"
      ],
      "execution_count": 9,
      "outputs": [
        {
          "output_type": "stream",
          "text": [
            "Train Accuracy : 91.83%\n"
          ],
          "name": "stdout"
        }
      ]
    },
    {
      "cell_type": "code",
      "metadata": {
        "id": "jh2KQIKfDs5C",
        "colab_type": "code",
        "outputId": "5869f9e0-67d8-418a-cf65-c8907d3dc1e1",
        "colab": {
          "base_uri": "https://localhost:8080/",
          "height": 35
        }
      },
      "source": [
        "model.eval()\n",
        "pred = model(mnist_test.data.view(-1,28*28).float().to(device)).detach()\n",
        "print('Test Accuracy : %.2f%%'%((mnist_test.targets.to(device) == torch.argmax(pred, 1)).float().mean().item()*100))"
      ],
      "execution_count": 10,
      "outputs": [
        {
          "output_type": "stream",
          "text": [
            "Test Accuracy : 90.54%\n"
          ],
          "name": "stdout"
        }
      ]
    }
  ]
}
