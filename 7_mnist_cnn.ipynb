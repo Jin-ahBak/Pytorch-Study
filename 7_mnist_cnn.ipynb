{
  "nbformat": 4,
  "nbformat_minor": 0,
  "metadata": {
    "colab": {
      "name": "7_mnist_cnn.ipynb",
      "provenance": [],
      "authorship_tag": "ABX9TyP+Sx+Pkv3t2xTRhBjcPxp2",
      "include_colab_link": true
    },
    "kernelspec": {
      "name": "python3",
      "display_name": "Python 3"
    },
    "widgets": {
      "application/vnd.jupyter.widget-state+json": {
        "2ee83fca01af4010ab990aab6db2e64d": {
          "model_module": "@jupyter-widgets/controls",
          "model_name": "HBoxModel",
          "state": {
            "_view_name": "HBoxView",
            "_dom_classes": [],
            "_model_name": "HBoxModel",
            "_view_module": "@jupyter-widgets/controls",
            "_model_module_version": "1.5.0",
            "_view_count": null,
            "_view_module_version": "1.5.0",
            "box_style": "",
            "layout": "IPY_MODEL_3f1fdb467e314759887eac6c4f19bb0f",
            "_model_module": "@jupyter-widgets/controls",
            "children": [
              "IPY_MODEL_32a69671cc154008a31d679136760144",
              "IPY_MODEL_baefad5f36cc4b50bd2dd48e0c954a7e"
            ]
          }
        },
        "3f1fdb467e314759887eac6c4f19bb0f": {
          "model_module": "@jupyter-widgets/base",
          "model_name": "LayoutModel",
          "state": {
            "_view_name": "LayoutView",
            "grid_template_rows": null,
            "right": null,
            "justify_content": null,
            "_view_module": "@jupyter-widgets/base",
            "overflow": null,
            "_model_module_version": "1.2.0",
            "_view_count": null,
            "flex_flow": null,
            "width": null,
            "min_width": null,
            "border": null,
            "align_items": null,
            "bottom": null,
            "_model_module": "@jupyter-widgets/base",
            "top": null,
            "grid_column": null,
            "overflow_y": null,
            "overflow_x": null,
            "grid_auto_flow": null,
            "grid_area": null,
            "grid_template_columns": null,
            "flex": null,
            "_model_name": "LayoutModel",
            "justify_items": null,
            "grid_row": null,
            "max_height": null,
            "align_content": null,
            "visibility": null,
            "align_self": null,
            "height": null,
            "min_height": null,
            "padding": null,
            "grid_auto_rows": null,
            "grid_gap": null,
            "max_width": null,
            "order": null,
            "_view_module_version": "1.2.0",
            "grid_template_areas": null,
            "object_position": null,
            "object_fit": null,
            "grid_auto_columns": null,
            "margin": null,
            "display": null,
            "left": null
          }
        },
        "32a69671cc154008a31d679136760144": {
          "model_module": "@jupyter-widgets/controls",
          "model_name": "IntProgressModel",
          "state": {
            "_view_name": "ProgressView",
            "style": "IPY_MODEL_5564574d90e04b92b40fa59ddfb1f5b3",
            "_dom_classes": [],
            "description": "",
            "_model_name": "IntProgressModel",
            "bar_style": "success",
            "max": 16,
            "_view_module": "@jupyter-widgets/controls",
            "_model_module_version": "1.5.0",
            "value": 16,
            "_view_count": null,
            "_view_module_version": "1.5.0",
            "orientation": "horizontal",
            "min": 0,
            "description_tooltip": null,
            "_model_module": "@jupyter-widgets/controls",
            "layout": "IPY_MODEL_c580fe47108f4a4a93ded1892a58763d"
          }
        },
        "baefad5f36cc4b50bd2dd48e0c954a7e": {
          "model_module": "@jupyter-widgets/controls",
          "model_name": "HTMLModel",
          "state": {
            "_view_name": "HTMLView",
            "style": "IPY_MODEL_483d4c6cd7bf4e8e9decd6883e945d99",
            "_dom_classes": [],
            "description": "",
            "_model_name": "HTMLModel",
            "placeholder": "​",
            "_view_module": "@jupyter-widgets/controls",
            "_model_module_version": "1.5.0",
            "value": "100% 16/16 [01:47&lt;00:00,  6.66s/it]",
            "_view_count": null,
            "_view_module_version": "1.5.0",
            "description_tooltip": null,
            "_model_module": "@jupyter-widgets/controls",
            "layout": "IPY_MODEL_6a78f3a1cb1e4fb4a2d378ea301a859d"
          }
        },
        "5564574d90e04b92b40fa59ddfb1f5b3": {
          "model_module": "@jupyter-widgets/controls",
          "model_name": "ProgressStyleModel",
          "state": {
            "_view_name": "StyleView",
            "_model_name": "ProgressStyleModel",
            "description_width": "",
            "_view_module": "@jupyter-widgets/base",
            "_model_module_version": "1.5.0",
            "_view_count": null,
            "_view_module_version": "1.2.0",
            "bar_color": null,
            "_model_module": "@jupyter-widgets/controls"
          }
        },
        "c580fe47108f4a4a93ded1892a58763d": {
          "model_module": "@jupyter-widgets/base",
          "model_name": "LayoutModel",
          "state": {
            "_view_name": "LayoutView",
            "grid_template_rows": null,
            "right": null,
            "justify_content": null,
            "_view_module": "@jupyter-widgets/base",
            "overflow": null,
            "_model_module_version": "1.2.0",
            "_view_count": null,
            "flex_flow": null,
            "width": null,
            "min_width": null,
            "border": null,
            "align_items": null,
            "bottom": null,
            "_model_module": "@jupyter-widgets/base",
            "top": null,
            "grid_column": null,
            "overflow_y": null,
            "overflow_x": null,
            "grid_auto_flow": null,
            "grid_area": null,
            "grid_template_columns": null,
            "flex": null,
            "_model_name": "LayoutModel",
            "justify_items": null,
            "grid_row": null,
            "max_height": null,
            "align_content": null,
            "visibility": null,
            "align_self": null,
            "height": null,
            "min_height": null,
            "padding": null,
            "grid_auto_rows": null,
            "grid_gap": null,
            "max_width": null,
            "order": null,
            "_view_module_version": "1.2.0",
            "grid_template_areas": null,
            "object_position": null,
            "object_fit": null,
            "grid_auto_columns": null,
            "margin": null,
            "display": null,
            "left": null
          }
        },
        "483d4c6cd7bf4e8e9decd6883e945d99": {
          "model_module": "@jupyter-widgets/controls",
          "model_name": "DescriptionStyleModel",
          "state": {
            "_view_name": "StyleView",
            "_model_name": "DescriptionStyleModel",
            "description_width": "",
            "_view_module": "@jupyter-widgets/base",
            "_model_module_version": "1.5.0",
            "_view_count": null,
            "_view_module_version": "1.2.0",
            "_model_module": "@jupyter-widgets/controls"
          }
        },
        "6a78f3a1cb1e4fb4a2d378ea301a859d": {
          "model_module": "@jupyter-widgets/base",
          "model_name": "LayoutModel",
          "state": {
            "_view_name": "LayoutView",
            "grid_template_rows": null,
            "right": null,
            "justify_content": null,
            "_view_module": "@jupyter-widgets/base",
            "overflow": null,
            "_model_module_version": "1.2.0",
            "_view_count": null,
            "flex_flow": null,
            "width": null,
            "min_width": null,
            "border": null,
            "align_items": null,
            "bottom": null,
            "_model_module": "@jupyter-widgets/base",
            "top": null,
            "grid_column": null,
            "overflow_y": null,
            "overflow_x": null,
            "grid_auto_flow": null,
            "grid_area": null,
            "grid_template_columns": null,
            "flex": null,
            "_model_name": "LayoutModel",
            "justify_items": null,
            "grid_row": null,
            "max_height": null,
            "align_content": null,
            "visibility": null,
            "align_self": null,
            "height": null,
            "min_height": null,
            "padding": null,
            "grid_auto_rows": null,
            "grid_gap": null,
            "max_width": null,
            "order": null,
            "_view_module_version": "1.2.0",
            "grid_template_areas": null,
            "object_position": null,
            "object_fit": null,
            "grid_auto_columns": null,
            "margin": null,
            "display": null,
            "left": null
          }
        }
      }
    },
    "accelerator": "GPU"
  },
  "cells": [
    {
      "cell_type": "markdown",
      "metadata": {
        "id": "view-in-github",
        "colab_type": "text"
      },
      "source": [
        "<a href=\"https://colab.research.google.com/github/lunaB/AI-Study/blob/master/7_mnist_cnn.ipynb\" target=\"_parent\"><img src=\"https://colab.research.google.com/assets/colab-badge.svg\" alt=\"Open In Colab\"/></a>"
      ]
    },
    {
      "cell_type": "code",
      "metadata": {
        "id": "hfXolNHTMLJ-",
        "colab_type": "code",
        "colab": {}
      },
      "source": [
        "import torch\n",
        "import torch.nn as nn\n",
        "import torch.nn.functional as F\n",
        "import torch.optim as optim\n",
        "import torchvision.datasets as datasets\n",
        "import torchvision.transforms as transforms\n",
        "\n",
        "import matplotlib.pyplot as plt\n",
        "from tqdm import tqdm_notebook\n",
        "\n",
        "import numpy as np\n",
        "\n",
        "torch.manual_seed(1)\n",
        "device = 'cuda' if torch.cuda.is_available() else 'cpu'\n",
        "if device == 'cuda':\n",
        "    torch.cuda.manual_seed_all(1)"
      ],
      "execution_count": 0,
      "outputs": []
    },
    {
      "cell_type": "code",
      "metadata": {
        "id": "DIfKn6zlf7UL",
        "colab_type": "code",
        "colab": {}
      },
      "source": [
        "mnist_train = datasets.MNIST(root='MNIST_data/',\n",
        "                          train=True,\n",
        "                          transform=transforms.ToTensor(),\n",
        "                          download=True)\n",
        "\n",
        "mnist_test = datasets.MNIST(root='MNIST_data/',\n",
        "                         train=False,\n",
        "                         transform=transforms.ToTensor(),\n",
        "                         download=True)"
      ],
      "execution_count": 0,
      "outputs": []
    },
    {
      "cell_type": "code",
      "metadata": {
        "id": "UekC6ZuocU5X",
        "colab_type": "code",
        "outputId": "8b3afe25-9779-4354-eb22-78586751d054",
        "colab": {
          "base_uri": "https://localhost:8080/",
          "height": 155
        }
      },
      "source": [
        "print(mnist_train)\n",
        "print(mnist_train.data.shape)\n",
        "print(mnist_train.targets.shape)"
      ],
      "execution_count": 3,
      "outputs": [
        {
          "output_type": "stream",
          "text": [
            "Dataset MNIST\n",
            "    Number of datapoints: 60000\n",
            "    Root location: MNIST_data/\n",
            "    Split: Train\n",
            "    StandardTransform\n",
            "Transform: ToTensor()\n",
            "torch.Size([60000, 28, 28])\n",
            "torch.Size([60000])\n"
          ],
          "name": "stdout"
        }
      ]
    },
    {
      "cell_type": "code",
      "metadata": {
        "id": "znjdLQXxnxCU",
        "colab_type": "code",
        "colab": {}
      },
      "source": [
        "dataloader = torch.utils.data.DataLoader(mnist_train, 100, shuffle=True, drop_last=True)"
      ],
      "execution_count": 0,
      "outputs": []
    },
    {
      "cell_type": "code",
      "metadata": {
        "id": "lo3u-A6tbuda",
        "colab_type": "code",
        "colab": {}
      },
      "source": [
        "class MnistModel(nn.Module):\n",
        "    def __init__(self):\n",
        "        super(MnistModel, self).__init__()\n",
        "        \n",
        "        self.layer1 = nn.Sequential(\n",
        "            nn.Conv2d(1, 32, kernel_size=3, stride=1, padding=1), \n",
        "            nn.MaxPool2d(kernel_size=2, stride=2), \n",
        "            nn.ReLU()\n",
        "        ).to(device)\n",
        "\n",
        "        self.layer2 = nn.Sequential(\n",
        "            nn.Conv2d(32, 64, kernel_size=3, stride=1, padding=1), \n",
        "            nn.MaxPool2d(kernel_size=2, stride=2), \n",
        "            nn.ReLU()\n",
        "        ).to(device)\n",
        "\n",
        "        self.fc = nn.Linear(7*7*64, 10, bias=True).to(device)\n",
        "\n",
        "        nn.init.xavier_uniform_(self.fc.weight)\n",
        "        \n",
        "    def forward(self, x):\n",
        "        out = self.layer1(x)\n",
        "        out = self.layer2(out).view(-1, 64*7*7)\n",
        "        out = self.fc(out)\n",
        "        return out"
      ],
      "execution_count": 0,
      "outputs": []
    },
    {
      "cell_type": "code",
      "metadata": {
        "id": "9A-mZaW1Yw3d",
        "colab_type": "code",
        "outputId": "0a5edbb3-ad78-4d86-e6c7-9d4c3a377aa8",
        "colab": {
          "base_uri": "https://localhost:8080/",
          "height": 343,
          "referenced_widgets": [
            "2ee83fca01af4010ab990aab6db2e64d",
            "3f1fdb467e314759887eac6c4f19bb0f",
            "32a69671cc154008a31d679136760144",
            "baefad5f36cc4b50bd2dd48e0c954a7e",
            "5564574d90e04b92b40fa59ddfb1f5b3",
            "c580fe47108f4a4a93ded1892a58763d",
            "483d4c6cd7bf4e8e9decd6883e945d99",
            "6a78f3a1cb1e4fb4a2d378ea301a859d"
          ]
        }
      },
      "source": [
        "model = MnistModel()\n",
        "optimizer = optim.Adam(model.parameters(), lr=0.001)\n",
        "n_epoch = 15\n",
        "for epoch in tqdm_notebook(range(n_epoch+1)):\n",
        "    model.train()\n",
        "    batch_loss = 0\n",
        "    for idx, mini_batch in enumerate(dataloader):\n",
        "        x_train, y_train = mini_batch\n",
        "        x_train = x_train.view(-1,1,28,28).to(device)\n",
        "        y_train = y_train.to(device)\n",
        "        \n",
        "        pred = model(x_train)\n",
        "\n",
        "        loss = F.cross_entropy(pred, y_train)\n",
        "        optimizer.zero_grad()\n",
        "        loss.backward()\n",
        "        optimizer.step()\n",
        "\n",
        "        batch_loss += loss.item()\n",
        "\n",
        "    print('epoch :',epoch, 'loss :', batch_loss/len(dataloader))\n",
        "    batch_loss = 0"
      ],
      "execution_count": 6,
      "outputs": [
        {
          "output_type": "display_data",
          "data": {
            "application/vnd.jupyter.widget-view+json": {
              "model_id": "2ee83fca01af4010ab990aab6db2e64d",
              "version_minor": 0,
              "version_major": 2
            },
            "text/plain": [
              "HBox(children=(IntProgress(value=0, max=16), HTML(value='')))"
            ]
          },
          "metadata": {
            "tags": []
          }
        },
        {
          "output_type": "stream",
          "text": [
            "epoch : 0 loss : 0.2232148799703767\n",
            "epoch : 1 loss : 0.06365160957405654\n",
            "epoch : 2 loss : 0.044703641698385276\n",
            "epoch : 3 loss : 0.03672968107644314\n",
            "epoch : 4 loss : 0.03151800505428885\n",
            "epoch : 5 loss : 0.024984735957017012\n",
            "epoch : 6 loss : 0.021822289816045667\n",
            "epoch : 7 loss : 0.018702491736185038\n",
            "epoch : 8 loss : 0.015166305340341447\n",
            "epoch : 9 loss : 0.01283841694452955\n",
            "epoch : 10 loss : 0.011873309638855668\n",
            "epoch : 11 loss : 0.009201796855049906\n",
            "epoch : 12 loss : 0.008271389397574845\n",
            "epoch : 13 loss : 0.0069792316619502045\n",
            "epoch : 14 loss : 0.005447321597375776\n",
            "epoch : 15 loss : 0.00544529378616365\n",
            "\n"
          ],
          "name": "stdout"
        }
      ]
    },
    {
      "cell_type": "code",
      "metadata": {
        "id": "9EUvyz7HDE_E",
        "colab_type": "code",
        "outputId": "29a38019-8fc5-4bb8-bd83-b0e9f8f4bf9e",
        "colab": {
          "base_uri": "https://localhost:8080/",
          "height": 282
        }
      },
      "source": [
        "model.eval()\n",
        "x_train, y_train = dataloader.dataset[0]\n",
        "data = model(x_train.view(-1, 1, 28, 28).to(device)).detach()[0]\n",
        "print(torch.argmax(data))\n",
        "plt.imshow(x_train[0], cmap='Greys')\n",
        "plt.show()"
      ],
      "execution_count": 7,
      "outputs": [
        {
          "output_type": "stream",
          "text": [
            "tensor(5, device='cuda:0')\n"
          ],
          "name": "stdout"
        },
        {
          "output_type": "display_data",
          "data": {
            "image/png": "[encoded data removed]",
            "text/plain": [
              "<Figure size 432x288 with 1 Axes>"
            ]
          },
          "metadata": {
            "tags": []
          }
        }
      ]
    },
    {
      "cell_type": "code",
      "metadata": {
        "id": "f4DNvaVqYh5M",
        "colab_type": "code",
        "outputId": "5cbbd9a4-8459-484d-f3da-e909bbb16a51",
        "colab": {
          "base_uri": "https://localhost:8080/",
          "height": 35
        }
      },
      "source": [
        "dataloader = torch.utils.data.DataLoader(mnist_train, 100, shuffle=True, drop_last=True)\n",
        "model.eval()\n",
        "with torch.no_grad():\n",
        "    tmp = []\n",
        "    for data in dataloader:\n",
        "        x_data, y_data = data\n",
        "        pred = model(x_data.view(-1, 1, 28, 28).float().to(device))\n",
        "        tmp.append((y_data.to(device) == torch.argmax(pred, 1)).float().mean().item())\n",
        "    print('Train Accuracy : %.2f%%'%(np.array(tmp).mean()*100))"
      ],
      "execution_count": 8,
      "outputs": [
        {
          "output_type": "stream",
          "text": [
            "Train Accuracy : 99.89%\n"
          ],
          "name": "stdout"
        }
      ]
    },
    {
      "cell_type": "code",
      "metadata": {
        "id": "jh2KQIKfDs5C",
        "colab_type": "code",
        "outputId": "980ec78d-bfa7-4cbc-e3f6-a18dfb66fb82",
        "colab": {
          "base_uri": "https://localhost:8080/",
          "height": 35
        }
      },
      "source": [
        "model.eval()\n",
        "dataloader = torch.utils.data.DataLoader(mnist_test, 100, shuffle=True, drop_last=True)\n",
        "with torch.no_grad():\n",
        "    tmp = []\n",
        "    for data in dataloader:\n",
        "        x_data, y_data = data\n",
        "        pred = model(x_data.view(-1, 1, 28, 28).float().to(device))\n",
        "        tmp.append((y_data.to(device) == torch.argmax(pred, 1)).float().mean().item())\n",
        "    print('Test Accuracy : %.2f%%'%(np.array(tmp).mean()*100))"
      ],
      "execution_count": 9,
      "outputs": [
        {
          "output_type": "stream",
          "text": [
            "Test Accuracy : 99.16%\n"
          ],
          "name": "stdout"
        }
      ]
    }
  ]
}