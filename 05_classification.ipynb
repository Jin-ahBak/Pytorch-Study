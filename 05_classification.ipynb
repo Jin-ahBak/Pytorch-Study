{
  "nbformat": 4,
  "nbformat_minor": 0,
  "metadata": {
    "colab": {
      "name": "5_classification.ipynb",
      "provenance": [],
      "authorship_tag": "ABX9TyNeiyHad9/mJC4VTLUTHpK9",
      "include_colab_link": true
    },
    "kernelspec": {
      "name": "python3",
      "display_name": "Python 3"
    }
  },
  "cells": [
    {
      "cell_type": "markdown",
      "metadata": {
        "id": "view-in-github",
        "colab_type": "text"
      },
      "source": [
        "<a href=\"https://colab.research.google.com/github/lunaB/AI-Study/blob/master/5_classification.ipynb\" target=\"_parent\"><img src=\"https://colab.research.google.com/assets/colab-badge.svg\" alt=\"Open In Colab\"/></a>"
      ]
    },
    {
      "cell_type": "code",
      "metadata": {
        "id": "HMURHj2j_CZY",
        "colab_type": "code",
        "outputId": "7c09d22b-3036-4db6-f385-1236a30117a7",
        "colab": {
          "base_uri": "https://localhost:8080/",
          "height": 215
        }
      },
      "source": [
        "import torch\n",
        "import torch.nn as nn\n",
        "import torch.nn.functional as F\n",
        "import torch.optim as optim\n",
        "\n",
        "x_train = torch.Tensor([[1,2],[3,4],[5,6],[7,8],[9,10]])\n",
        "y_train = torch.Tensor([0,1,1,2,2]).long()\n",
        "\n",
        "model = nn.Linear(2,3)\n",
        "optimizer = optim.SGD(model.parameters(), lr=0.4)\n",
        "\n",
        "nb_epochs = 1000\n",
        "for epoch in range(nb_epochs+1):\n",
        "\n",
        "    y = F.softmax(model(x_train), dim=1)\n",
        "    cost = F.cross_entropy(y, y_train)\n",
        "\n",
        "    optimizer.zero_grad()\n",
        "    cost.backward()\n",
        "    optimizer.step()\n",
        "\n",
        "    if epoch % 100 == 0:\n",
        "        print(epoch, cost.item())"
      ],
      "execution_count": 0,
      "outputs": [
        {
          "output_type": "stream",
          "text": [
            "0 1.0516916513442993\n",
            "100 0.9439369440078735\n",
            "200 0.8762350082397461\n",
            "300 0.7062557935714722\n",
            "400 0.8091058731079102\n",
            "500 0.6590312123298645\n",
            "600 0.6450930833816528\n",
            "700 0.6938074827194214\n",
            "800 0.6825185418128967\n",
            "900 0.6567893624305725\n",
            "1000 0.6380648016929626\n"
          ],
          "name": "stdout"
        }
      ]
    },
    {
      "cell_type": "code",
      "metadata": {
        "id": "_wm4UimY7cX1",
        "colab_type": "code",
        "outputId": "6e04913f-6ad9-43d0-d0c9-951447bcf6da",
        "colab": {
          "base_uri": "https://localhost:8080/",
          "height": 197
        }
      },
      "source": [
        "print(torch.zeros(5,3).scatter(1,y_train.unsqueeze(1),1))\n",
        "print(y.round())"
      ],
      "execution_count": 0,
      "outputs": [
        {
          "output_type": "stream",
          "text": [
            "tensor([[1., 0., 0.],\n",
            "        [0., 1., 0.],\n",
            "        [0., 1., 0.],\n",
            "        [0., 0., 1.],\n",
            "        [0., 0., 1.]])\n",
            "tensor([[1., 0., 0.],\n",
            "        [0., 1., 0.],\n",
            "        [0., 1., 0.],\n",
            "        [0., 0., 1.],\n",
            "        [0., 0., 1.]], grad_fn=<RoundBackward>)\n"
          ],
          "name": "stdout"
        }
      ]
    }
  ]
}
