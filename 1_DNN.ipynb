{
  "nbformat": 4,
  "nbformat_minor": 0,
  "metadata": {
    "colab": {
      "name": "1.DNN.ipynb",
      "provenance": [],
      "authorship_tag": "ABX9TyMeolWzQ1W02R+DW/lIKD5U",
      "include_colab_link": true
    },
    "kernelspec": {
      "name": "python3",
      "display_name": "Python 3"
    },
    "accelerator": "GPU"
  },
  "cells": [
    {
      "cell_type": "markdown",
      "metadata": {
        "id": "view-in-github",
        "colab_type": "text"
      },
      "source": [
        "<a href=\"https://colab.research.google.com/github/lunaB/AI-Study/blob/master/1_DNN.ipynb\" target=\"_parent\"><img src=\"https://colab.research.google.com/assets/colab-badge.svg\" alt=\"Open In Colab\"/></a>"
      ]
    },
    {
      "cell_type": "code",
      "metadata": {
        "id": "Bh1BfW8etrrx",
        "colab_type": "code",
        "outputId": "ae06846d-3d24-49e0-956b-01154d8ce919",
        "colab": {
          "base_uri": "https://localhost:8080/",
          "height": 452
        }
      },
      "source": [
        "import torch\n",
        "import numpy as np\n",
        "import matplotlib.pyplot as plt\n",
        "\n",
        "# X와 Y dtype은 무조건 float32이여야 하는 것 같다.\n",
        "x = np.array([[0],[0.4],[0.8],[1]], dtype=np.float32)\n",
        "y = np.array([[0],[0],[1],[1]], dtype=np.float32)\n",
        "\n",
        "# Linear 선형모델\n",
        "model = torch.nn.Linear(1,1)\n",
        "# MES loss 함수\n",
        "loss_func = torch.nn.MSELoss()\n",
        "# SGD optimizer에 학습률을 0.01로 설정함\n",
        "optim = torch.optim.SGD(model.parameters(), lr=0.1)\n",
        "\n",
        "# 101 epoch\n",
        "for i in range(101):\n",
        "\n",
        "    # torch로 자료형을 바꿈\n",
        "    inputs = torch.from_numpy(x)\n",
        "    targets = torch.from_numpy(y)\n",
        "\n",
        "    # outputs 설계\n",
        "    outputs = model(inputs)\n",
        "\n",
        "    # loss 설계\n",
        "    loss = loss_func(outputs, targets)\n",
        "\n",
        "    # 누적 변화도를 0으로 초기화\n",
        "    optim.zero_grad()\n",
        "\n",
        "    # 변화도 계산\n",
        "    loss.backward()\n",
        "\n",
        "    # 가중치값 변화\n",
        "    optim.step()\n",
        "\n",
        "    if i%10 == 0:\n",
        "        print(i, loss.item())\n",
        "\n",
        "plt.plot(x, model(torch.from_numpy(x)).detach().numpy())\n",
        "plt.scatter(x, y)\n",
        "plt.show()"
      ],
      "execution_count": 0,
      "outputs": [
        {
          "output_type": "stream",
          "text": [
            "0 1.2337979078292847\n",
            "10 0.049089282751083374\n",
            "20 0.04519921541213989\n",
            "30 0.0441807396709919\n",
            "40 0.04353111609816551\n",
            "50 0.043114930391311646\n",
            "60 0.042848289012908936\n",
            "70 0.04267745465040207\n",
            "80 0.042568009346723557\n",
            "90 0.0424978993833065\n",
            "100 0.04245297983288765\n"
          ],
          "name": "stdout"
        },
        {
          "output_type": "display_data",
          "data": {
            "image/png": "[encoded data removed]",
            "text/plain": [
              "<Figure size 432x288 with 1 Axes>"
            ]
          },
          "metadata": {
            "tags": []
          }
        }
      ]
    }
  ]
}