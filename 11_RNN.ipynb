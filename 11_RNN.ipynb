{
  "nbformat": 4,
  "nbformat_minor": 0,
  "metadata": {
    "colab": {
      "name": "11_RNN.ipynb",
      "provenance": [],
      "authorship_tag": "ABX9TyPP9tPy8IQsS5fVBD4+pzTu",
      "include_colab_link": true
    },
    "kernelspec": {
      "name": "python3",
      "display_name": "Python 3"
    },
    "accelerator": "GPU"
  },
  "cells": [
    {
      "cell_type": "markdown",
      "metadata": {
        "id": "view-in-github",
        "colab_type": "text"
      },
      "source": [
        "<a href=\"https://colab.research.google.com/github/lunaB/AI-Study/blob/master/11_RNN.ipynb\" target=\"_parent\"><img src=\"https://colab.research.google.com/assets/colab-badge.svg\" alt=\"Open In Colab\"/></a>"
      ]
    },
    {
      "cell_type": "code",
      "metadata": {
        "id": "fwL2OwoYJOb4",
        "colab_type": "code",
        "colab": {
          "base_uri": "https://localhost:8080/",
          "height": 35
        },
        "outputId": "4cc70a9e-beaf-4de0-b5b1-7fdcee01ec06"
      },
      "source": [
        "import torch\n",
        "import torch.nn as nn\n",
        "import torch.optim as optim\n",
        "import numpy as np\n",
        "torch.manual_seed(0)"
      ],
      "execution_count": 1,
      "outputs": [
        {
          "output_type": "execute_result",
          "data": {
            "text/plain": [
              "<torch._C.Generator at 0x7f08133ed050>"
            ]
          },
          "metadata": {
            "tags": []
          },
          "execution_count": 1
        }
      ]
    },
    {
      "cell_type": "code",
      "metadata": {
        "id": "xYqiTBrEIPCN",
        "colab_type": "code",
        "colab": {
          "base_uri": "https://localhost:8080/",
          "height": 72
        },
        "outputId": "37cc81dd-88cb-41e6-fa09-b07ab870d43e"
      },
      "source": [
        "sentence = \"but there is no shop anywhere where one can buy friendship, and so men have no friends any more.\"\n",
        "print(len(sentence))\n",
        "x_data = []\n",
        "y_data = []\n",
        "seq_len = 10\n",
        "\n",
        "char_set = list(set(sentence))\n",
        "char_dict = {c:i for i, c in enumerate(char_set)}\n",
        "\n",
        "print(char_dict)\n",
        "\n",
        "for i in range(len(sentence)-seq_len):\n",
        "    x_str = sentence[i:i+seq_len]\n",
        "    y_str = sentence[i+1:i+seq_len+1]\n",
        "    x_data.append([char_dict[c] for c in x_str])\n",
        "    y_data.append([char_dict[c] for c in y_str])\n",
        "\n",
        "one_hot = [np.eye(len(char_dict))[i] for i in x_data]\n",
        "\n",
        "X = torch.FloatTensor(one_hot)\n",
        "Y = torch.LongTensor(y_data)"
      ],
      "execution_count": 2,
      "outputs": [
        {
          "output_type": "stream",
          "text": [
            "96\n",
            "{'e': 0, 'r': 1, 't': 2, 'v': 3, 'y': 4, 'm': 5, '.': 6, 'n': 7, 'a': 8, 'b': 9, ',': 10, 'p': 11, 's': 12, 'o': 13, 'c': 14, 'f': 15, 'i': 16, 'w': 17, 'u': 18, 'd': 19, ' ': 20, 'h': 21}\n"
          ],
          "name": "stdout"
        }
      ]
    },
    {
      "cell_type": "code",
      "metadata": {
        "id": "pE7Q4t2rPF0y",
        "colab_type": "code",
        "colab": {
          "base_uri": "https://localhost:8080/",
          "height": 190
        },
        "outputId": "89a76ce5-7a01-4135-a318-f7adc788efa5"
      },
      "source": [
        "class Net(nn.Module):\n",
        "    def __init__(self, input_dim, hidden_dim, layers):\n",
        "        super(Net, self).__init__()\n",
        "        self.rnn = torch.nn.RNN(input_dim, hidden_dim, num_layers=layers, batch_first=True)\n",
        "        self.fc = torch.nn.Linear(hidden_dim, hidden_dim, bias=True)\n",
        "\n",
        "    def forward(self, x):\n",
        "        x, _status = self.rnn(x)\n",
        "        x = self.fc(x)\n",
        "        return x\n",
        "    \n",
        "net = Net(len(char_dict), len(char_dict), 2)\n",
        "\n",
        "criterion = torch.nn.CrossEntropyLoss()\n",
        "optimizer = optim.Adam(net.parameters(), lr=0.01)\n",
        "\n",
        "for i in range(1000):\n",
        "    optimizer.zero_grad()\n",
        "    outputs = net(X)\n",
        "    # print(outputs.shape)\n",
        "    # print(outputs.view(-1, len(sent_dict)).shape)\n",
        "    # print(Y.shape)\n",
        "    loss = criterion(outputs.view(-1, len(char_dict)), Y.view(-1))\n",
        "    loss.backward()\n",
        "    optimizer.step()\n",
        "\n",
        "    if (i+1)%100 == 0:\n",
        "        pred_str = sentence[0]\n",
        "        pred_vec = outputs.data.numpy().argmax(axis=2)\n",
        "        for i, v in enumerate(pred_vec):\n",
        "            if i == 0:\n",
        "                pred_str += ''.join([char_set[j] for j in v])\n",
        "            else:\n",
        "                pred_str += char_set[v[-1]]\n",
        "        print(loss.item(), pred_str, pred_str==sentence)"
      ],
      "execution_count": 3,
      "outputs": [
        {
          "output_type": "stream",
          "text": [
            "0.260539710521698 buy there is no shop anywhere where one can buy friendship, and so men have no friendshany morer False\n",
            "0.18756131827831268 buy there is no shop anywhere where one can buy friendship, and so men have no friends any more. False\n",
            "0.18016597628593445 buy there is no shop anywhere where one can buy friendship, and so men have no friends any more. False\n",
            "0.1778877228498459 buy there is no shop anywhere where one can buy friendship, and so men have no friends any more. False\n",
            "0.17650577425956726 buy there is no shop anywhere where one can buy friendship, and so men have no friends any more. False\n",
            "0.17576725780963898 buy there is no shop anywhere where one can buy friendship, and so men have no friends any more. False\n",
            "0.17530053853988647 but there is no shop anywhere where one can buy friendship, and so men have no friends any more. True\n",
            "0.1750594675540924 but there is no shop anywhere where one can buy friendship, and so men have no friends any more. True\n",
            "0.17480942606925964 buy there is no shop anywhere where one can buy friendship, and so men have no friends any more. False\n",
            "0.17463216185569763 buy there is no shop anywhere where one can buy friendship, and so men have no friends any more. False\n"
          ],
          "name": "stdout"
        }
      ]
    }
  ]
}